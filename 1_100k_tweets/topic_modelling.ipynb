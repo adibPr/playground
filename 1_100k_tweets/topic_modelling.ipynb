{
 "cells": [
  {
   "cell_type": "code",
   "execution_count": 18,
   "metadata": {},
   "outputs": [],
   "source": [
    "import os\n",
    "import sys\n",
    "import json\n",
    "from pprint import pprint"
   ]
  },
  {
   "cell_type": "markdown",
   "metadata": {},
   "source": [
    "# Data\n",
    "The data that we will be using is twitter data that was generated using [Twint](https://github.com/twintproject/twint). We scrap the data with the query of longitude and latitude in the Jakarta area. In total, we have (at now) 10K tweets."
   ]
  },
  {
   "cell_type": "code",
   "execution_count": 21,
   "metadata": {},
   "outputs": [
    {
     "name": "stdout",
     "output_type": "stream",
     "text": [
      "Total data -  10000\n",
      "The first data: \n",
      "{'cashtags': [],\n",
      " 'conversation_id': '1176699119420792834',\n",
      " 'created_at': 1569387197000,\n",
      " 'date': '2019-09-25',\n",
      " 'geo': '-6.117664,106.906349,10km',\n",
      " 'hashtags': [],\n",
      " 'id': 1176721309033590784,\n",
      " 'likes_count': 0,\n",
      " 'link': 'https://twitter.com/aswanfutra/status/1176721309033590784',\n",
      " 'mentions': ['liputan6dotcom'],\n",
      " 'name': 'Donie aswanfutra',\n",
      " 'near': '',\n",
      " 'photos': [],\n",
      " 'place': '',\n",
      " 'quote_url': '',\n",
      " 'replies_count': 0,\n",
      " 'reply_to': [{'user_id': '1176485055541084161', 'username': 'aswanfutra'},\n",
      "              {'user_id': '47596019', 'username': 'liputan6dotcom'}],\n",
      " 'retweet': False,\n",
      " 'retweet_date': '',\n",
      " 'retweet_id': '',\n",
      " 'retweets_count': 0,\n",
      " 'source': '',\n",
      " 'time': '11:53:17',\n",
      " 'timezone': 'WIB',\n",
      " 'tweet': 'Cara masuk nglamar langsung ap online nh',\n",
      " 'urls': [],\n",
      " 'user_id': 1176485055541084161,\n",
      " 'user_rt': '',\n",
      " 'user_rt_id': '',\n",
      " 'username': 'aswanfutra',\n",
      " 'video': 0}\n"
     ]
    }
   ],
   "source": [
    "path_data = './data/jakarta.json'\n",
    "with open (path_data, 'r') as f_b:\n",
    "    data = list (map (json.loads, f_b.read ().splitlines ()))\n",
    "    \n",
    "print (\"Total data - \", len (data))\n",
    "print (\"The first data: \")\n",
    "pprint (data[0])"
   ]
  },
  {
   "cell_type": "markdown",
   "metadata": {},
   "source": [
    "### Topic Modelling\n",
    "First, from the data, let's do some topic modeling which each model will be described as distribution of words. "
   ]
  }
 ],
 "metadata": {
  "kernelspec": {
   "display_name": "Python 3",
   "language": "python",
   "name": "python3"
  },
  "language_info": {
   "codemirror_mode": {
    "name": "ipython",
    "version": 3
   },
   "file_extension": ".py",
   "mimetype": "text/x-python",
   "name": "python",
   "nbconvert_exporter": "python",
   "pygments_lexer": "ipython3",
   "version": "3.7.4"
  }
 },
 "nbformat": 4,
 "nbformat_minor": 2
}
